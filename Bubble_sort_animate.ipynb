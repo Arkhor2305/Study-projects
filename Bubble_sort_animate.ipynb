{
 "cells": [
  {
   "cell_type": "code",
   "execution_count": null,
   "id": "0a2fda42-7a9a-45d9-8ae7-666a1a149680",
   "metadata": {},
   "outputs": [],
   "source": [
    "import matplotlib.pyplot as plt\n",
    "from matplotlib.animation import FuncAnimation, PillowWriter\n",
    " \n",
    "def animate(_list, generator, title, save, save_frames=1000):\n",
    "    n = len(_list)\n",
    "    fig, ax = plt.subplots()\n",
    "    ax.set_title(title)\n",
    " \n",
    "    bar_rects = ax.bar(range(len(_list)), _list, align=\"edge\")  \n",
    "    ax.set_xlim(0, n)\n",
    "    ax.set_ylim(0, int(1.1*n))\n",
    "    text = ax.text(0.01, 0.95, \"\", transform = ax.transAxes)\n",
    "    iteration = [0]\n",
    "    \n",
    "    def _animate(array, rects, iteration):\n",
    "        for rect, val in zip(rects, array):\n",
    "            rect.set_height(val)\n",
    "        iteration[0] += 1\n",
    "        text.set_text(f\"iterations: {iteration[0]}\")\n",
    "   \n",
    "    anim = FuncAnimation(fig, func=_animate,\n",
    "        fargs=(bar_rects, iteration), frames=generator, interval=10,\n",
    "        repeat=False, save_count=save_frames)\n",
    "    if save:\n",
    "        writer = PillowWriter(fps=30)\n",
    "        anim.save(title + \".gif\", writer=writer)\n",
    "    plt.show()"
   ]
  },
  {
   "cell_type": "code",
   "execution_count": null,
   "id": "5e96fc3e-e491-44bb-8d99-d67b65779de7",
   "metadata": {},
   "outputs": [],
   "source": [
    "import matplotlib\n",
    "import random\n",
    " \n",
    "def bubblesort(arr):\n",
    "    n = len(arr)\n",
    "    for i in range(n-1):\n",
    "        for j in range(n-i-1):\n",
    "            if arr[j] > arr[j+1]:\n",
    "                arr[j], arr[j+1] = arr[j+1], arr[j]\n",
    "                yield arr\n",
    " \n",
    "array = [i for i in range(50)]\n",
    "random.shuffle(array)\n",
    "animate(array, bubblesort(array), \"bubble sort\", True)"
   ]
  }
 ],
 "metadata": {
  "kernelspec": {
   "display_name": "Python 3 (ipykernel)",
   "language": "python",
   "name": "python3"
  },
  "language_info": {
   "codemirror_mode": {
    "name": "ipython",
    "version": 3
   },
   "file_extension": ".py",
   "mimetype": "text/x-python",
   "name": "python",
   "nbconvert_exporter": "python",
   "pygments_lexer": "ipython3",
   "version": "3.9.7"
  }
 },
 "nbformat": 4,
 "nbformat_minor": 5
}
